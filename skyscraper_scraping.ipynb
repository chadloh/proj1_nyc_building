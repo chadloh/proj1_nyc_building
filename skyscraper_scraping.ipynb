{
 "cells": [
  {
   "cell_type": "code",
   "execution_count": 4,
   "metadata": {},
   "outputs": [
    {
     "name": "stdout",
     "output_type": "stream",
     "text": [
      "Collecting webdriver_manager\n",
      "  Using cached webdriver_manager-3.5.4-py2.py3-none-any.whl (18 kB)\n",
      "Requirement already satisfied: requests in c:\\users\\chadd\\anaconda\\lib\\site-packages (from webdriver_manager) (2.26.0)\n",
      "Requirement already satisfied: certifi>=2017.4.17 in c:\\users\\chadd\\anaconda\\lib\\site-packages (from requests->webdriver_manager) (2021.10.8)\n",
      "Requirement already satisfied: idna<4,>=2.5 in c:\\users\\chadd\\anaconda\\lib\\site-packages (from requests->webdriver_manager) (3.2)\n",
      "Requirement already satisfied: urllib3<1.27,>=1.21.1 in c:\\users\\chadd\\anaconda\\lib\\site-packages (from requests->webdriver_manager) (1.26.7)\n",
      "Requirement already satisfied: charset-normalizer~=2.0.0 in c:\\users\\chadd\\anaconda\\lib\\site-packages (from requests->webdriver_manager) (2.0.4)\n",
      "Installing collected packages: webdriver-manager\n",
      "Successfully installed webdriver-manager-3.5.4\n"
     ]
    }
   ],
   "source": [
    "!pip install webdriver_manager"
   ]
  },
  {
   "cell_type": "code",
   "execution_count": 5,
   "metadata": {
    "scrolled": true
   },
   "outputs": [],
   "source": [
    "from bs4 import BeautifulSoup\n",
    "import selenium\n",
    "from selenium.webdriver.common.keys import Keys\n",
    "\n",
    "from selenium import webdriver\n",
    "from selenium.webdriver.chrome.service import Service\n",
    "from selenium.webdriver.common.by import By \n",
    "from webdriver_manager.chrome import ChromeDriverManager\n",
    "\n",
    "import requests\n",
    "import shutil\n",
    "\n",
    "from re import sub\n",
    "\n",
    "import pandas as pd\n",
    "\n",
    "import csv\n",
    "\n",
    "def camel(s):\n",
    "  s = sub(r\"(_|-)+\", \" \", s).title().replace(\" \", \"\")\n",
    "  return ''.join([s[0].lower(), s[1:]])"
   ]
  },
  {
   "cell_type": "code",
   "execution_count": 6,
   "metadata": {},
   "outputs": [
    {
     "name": "stderr",
     "output_type": "stream",
     "text": [
      "\n",
      "\n",
      "====== WebDriver manager ======\n",
      "Current google-chrome version is 100.0.4896\n",
      "Get LATEST chromedriver version for 100.0.4896 google-chrome\n",
      "Trying to download new driver from https://chromedriver.storage.googleapis.com/100.0.4896.60/chromedriver_win32.zip\n",
      "Driver has been saved in cache [C:\\Users\\chadd\\.wdm\\drivers\\chromedriver\\win32\\100.0.4896.60]\n"
     ]
    }
   ],
   "source": [
    "headers = {'User-Agent':        #search \"what is my user agent\" on Google\n",
    "           'Mozilla/5.0 (Windows NT 10.0; Win64; x64) AppleWebKit/537.36 (KHTML, like Gecko) Chrome/88.0.4324.104 Safari/537.36'}\n",
    "list_page_url = 'https://www.skyscrapercenter.com/quick-lists#q=&page=1&type=building&status=COM&status=UCT&status=STO&min_year=1885&max_year=9999&region=0&country=0&city=1641'\n",
    "\n",
    "driver = webdriver.Chrome(service=Service(ChromeDriverManager().install()))\n",
    "driver.get(list_page_url)"
   ]
  },
  {
   "cell_type": "code",
   "execution_count": 48,
   "metadata": {
    "scrolled": true
   },
   "outputs": [],
   "source": [
    "bldg_list = []\n",
    "url_list = []\n",
    "h_list = []\n",
    "fl_list = []\n",
    "year_list = []\n",
    "mat_list = []\n",
    "use_list = []\n",
    "\n",
    "bldgs = driver.find_elements(By.XPATH, '//td[@class=\"building-hover\"]')\n",
    "urls = driver.find_elements(By.XPATH, '//td[@class=\"building-hover\"]/a')\n",
    "\n",
    "for b in range(len(bldgs)):\n",
    "    bldg_list.append(bldgs[b].text)\n",
    "    url_list.append(urls[b].get_attribute('href'))\n",
    "    h_list.append(driver.find_element(By.XPATH, '//table[@id=\"table-buildings\"]/tbody/tr['+str(b+1)+']/td[5]').text)\n",
    "    fl_list.append(driver.find_element(By.XPATH, '//table[@id=\"table-buildings\"]/tbody/tr['+str(b+1)+']/td[6]').text)\n",
    "    year_list.append(driver.find_element(By.XPATH, '//table[@id=\"table-buildings\"]/tbody/tr['+str(b+1)+']/td[7]').text)\n",
    "    mat_list.append(driver.find_element(By.XPATH, '//table[@id=\"table-buildings\"]/tbody/tr['+str(b+1)+']/td[8]').text)\n",
    "    use_list.append(driver.find_element(By.XPATH, '//table[@id=\"table-buildings\"]/tbody/tr['+str(b+1)+']/td[9]').text)"
   ]
  },
  {
   "cell_type": "code",
   "execution_count": 79,
   "metadata": {
    "scrolled": true
   },
   "outputs": [],
   "source": [
    "bldg_dict = pd.DataFrame(zip(bldg_list, url_list, h_list, fl_list, year_list, mat_list, use_list),\n",
    "                        columns = ['bldg', 'url', 'height_m', 'floor', 'year', 'material', 'use'])"
   ]
  },
  {
   "cell_type": "code",
   "execution_count": 82,
   "metadata": {},
   "outputs": [],
   "source": [
    "bldg_dict.to_csv('data/scraped_bldg_data.csv')"
   ]
  },
  {
   "cell_type": "code",
   "execution_count": 65,
   "metadata": {},
   "outputs": [],
   "source": [
    "#scrape building images\n",
    "\n",
    "for b in range(len(bldgs)):    \n",
    "    driver.get(url_list[b])\n",
    "    try:\n",
    "        bldg_img_url=driver.find_element(By.XPATH, '//div[@id=\"drawing\"]/div/div/div/div/img').get_attribute('src')\n",
    "        filename = 'bldg_img/'+f'{b:02}'+'_'+camel(bldg_list[b])+'.png'\n",
    "        r = requests.get(bldg_img_url, stream=True)\n",
    "        if r.status_code == 200:\n",
    "            with open(filename, 'wb') as f:\n",
    "                r.raw.decode_content = True\n",
    "                shutil.copyfileobj(r.raw, f)\n",
    "    except:\n",
    "        pass"
   ]
  }
 ],
 "metadata": {
  "kernelspec": {
   "display_name": "Python 3 (ipykernel)",
   "language": "python",
   "name": "python3"
  },
  "language_info": {
   "codemirror_mode": {
    "name": "ipython",
    "version": 3
   },
   "file_extension": ".py",
   "mimetype": "text/x-python",
   "name": "python",
   "nbconvert_exporter": "python",
   "pygments_lexer": "ipython3",
   "version": "3.9.7"
  }
 },
 "nbformat": 4,
 "nbformat_minor": 4
}
