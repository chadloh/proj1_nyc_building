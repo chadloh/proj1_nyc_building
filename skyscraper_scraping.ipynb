{
 "cells": [
  {
   "cell_type": "code",
   "execution_count": 98,
   "metadata": {
    "scrolled": true
   },
   "outputs": [
    {
     "ename": "ImportError",
     "evalue": "cannot import name 'By' from 'selenium' (C:\\Users\\chadd\\anaconda3\\lib\\site-packages\\selenium\\__init__.py)",
     "output_type": "error",
     "traceback": [
      "\u001b[1;31m---------------------------------------------------------------------------\u001b[0m",
      "\u001b[1;31mImportError\u001b[0m                               Traceback (most recent call last)",
      "\u001b[1;32m<ipython-input-98-4d5b1b341ecf>\u001b[0m in \u001b[0;36m<module>\u001b[1;34m\u001b[0m\n\u001b[0;32m      3\u001b[0m \u001b[1;32mfrom\u001b[0m \u001b[0mselenium\u001b[0m\u001b[1;33m.\u001b[0m\u001b[0mwebdriver\u001b[0m\u001b[1;33m.\u001b[0m\u001b[0mcommon\u001b[0m\u001b[1;33m.\u001b[0m\u001b[0mkeys\u001b[0m \u001b[1;32mimport\u001b[0m \u001b[0mKeys\u001b[0m\u001b[1;33m\u001b[0m\u001b[1;33m\u001b[0m\u001b[0m\n\u001b[0;32m      4\u001b[0m \u001b[1;33m\u001b[0m\u001b[0m\n\u001b[1;32m----> 5\u001b[1;33m \u001b[1;32mfrom\u001b[0m \u001b[0mselenium\u001b[0m \u001b[1;32mimport\u001b[0m \u001b[0mwebdriver\u001b[0m\u001b[1;33m,\u001b[0m \u001b[0mBy\u001b[0m\u001b[1;33m\u001b[0m\u001b[1;33m\u001b[0m\u001b[0m\n\u001b[0m\u001b[0;32m      6\u001b[0m \u001b[1;32mfrom\u001b[0m \u001b[0mselenium\u001b[0m\u001b[1;33m.\u001b[0m\u001b[0mwebdriver\u001b[0m\u001b[1;33m.\u001b[0m\u001b[0mchrome\u001b[0m\u001b[1;33m.\u001b[0m\u001b[0mservice\u001b[0m \u001b[1;32mimport\u001b[0m \u001b[0mService\u001b[0m\u001b[1;33m\u001b[0m\u001b[1;33m\u001b[0m\u001b[0m\n\u001b[0;32m      7\u001b[0m \u001b[1;32mfrom\u001b[0m \u001b[0mwebdriver_manager\u001b[0m\u001b[1;33m.\u001b[0m\u001b[0mchrome\u001b[0m \u001b[1;32mimport\u001b[0m \u001b[0mChromeDriverManager\u001b[0m\u001b[1;33m\u001b[0m\u001b[1;33m\u001b[0m\u001b[0m\n",
      "\u001b[1;31mImportError\u001b[0m: cannot import name 'By' from 'selenium' (C:\\Users\\chadd\\anaconda3\\lib\\site-packages\\selenium\\__init__.py)"
     ]
    }
   ],
   "source": [
    "from bs4 import BeautifulSoup\n",
    "import selenium\n",
    "from selenium.webdriver.common.keys import Keys\n",
    "\n",
    "from selenium import webdriver\n",
    "from selenium.webdriver.chrome.service import Service\n",
    "from webdriver_manager.chrome import ChromeDriverManager\n",
    "\n",
    "import requests\n",
    "\n",
    "\n",
    "headers = {'User-Agent':        #search \"what is my user agent\" on Google\n",
    "           'Mozilla/5.0 (Windows NT 10.0; Win64; x64) AppleWebKit/537.36 (KHTML, like Gecko) Chrome/88.0.4324.104 Safari/537.36'}\n",
    "url = 'https://www.skyscrapercenter.com/quick-lists#q=&page=1&type=building&status=COM&status=UCT&status=STO&min_year=1885&max_year=9999&region=0&country=0&city=1641'\n",
    "\n",
    "\n",
    "response = requests.get(url, headers = headers)       #<Response [200]> OK\n",
    "text = BeautifulSoup(response.text, 'html.parser')  #parse the response text\n",
    "\n",
    "\n"
   ]
  },
  {
   "cell_type": "code",
   "execution_count": 95,
   "metadata": {},
   "outputs": [
    {
     "name": "stderr",
     "output_type": "stream",
     "text": [
      "\n",
      "\n",
      "====== WebDriver manager ======\n",
      "Current google-chrome version is 100.0.4896\n",
      "Get LATEST chromedriver version for 100.0.4896 google-chrome\n",
      "Driver [C:\\Users\\chadd\\.wdm\\drivers\\chromedriver\\win32\\100.0.4896.60\\chromedriver.exe] found in cache\n"
     ]
    }
   ],
   "source": [
    "driver = webdriver.Chrome(service=Service(ChromeDriverManager().install()))"
   ]
  },
  {
   "cell_type": "code",
   "execution_count": 96,
   "metadata": {},
   "outputs": [],
   "source": [
    "driver.get(url)"
   ]
  },
  {
   "cell_type": "code",
   "execution_count": 106,
   "metadata": {},
   "outputs": [
    {
     "name": "stderr",
     "output_type": "stream",
     "text": [
      "<ipython-input-106-88c08e64bd5f>:1: DeprecationWarning: find_elements_by_xpath is deprecated. Please use find_elements(by=By.XPATH, value=xpath) instead\n",
      "  bldgs = driver.find_elements_by_xpath('//td[@class=\"building-hover\"]')\n",
      "<ipython-input-106-88c08e64bd5f>:2: DeprecationWarning: find_elements_by_xpath is deprecated. Please use find_elements(by=By.XPATH, value=xpath) instead\n",
      "  urls = driver.find_elements_by_xpath('//td[@class=\"building-hover\"]/a')\n",
      "<ipython-input-106-88c08e64bd5f>:3: DeprecationWarning: find_element_by_xpath is deprecated. Please use find_element(by=By.XPATH, value=xpath) instead\n",
      "  heights = driver.find_element_by_xpath('//table[@id=\"table-buildings\"]/tbody/tr')\n"
     ]
    }
   ],
   "source": [
    "bldgs = driver.find_elements_by_xpath('//td[@class=\"building-hover\"]')\n",
    "urls = driver.find_elements_by_xpath('//td[@class=\"building-hover\"]/a')"
   ]
  },
  {
   "cell_type": "code",
   "execution_count": 117,
   "metadata": {},
   "outputs": [
    {
     "name": "stderr",
     "output_type": "stream",
     "text": [
      "<ipython-input-117-dd19cc2cf8e1>:12: DeprecationWarning: find_element_by_xpath is deprecated. Please use find_element(by=By.XPATH, value=xpath) instead\n",
      "  h_list.append(driver.find_element_by_xpath('//table[@id=\"table-buildings\"]/tbody/tr['+str(b+1)+']/td[5]').text)\n",
      "<ipython-input-117-dd19cc2cf8e1>:13: DeprecationWarning: find_element_by_xpath is deprecated. Please use find_element(by=By.XPATH, value=xpath) instead\n",
      "  fl_list.append(driver.find_element_by_xpath('//table[@id=\"table-buildings\"]/tbody/tr['+str(b+1)+']/td[6]').text)\n",
      "<ipython-input-117-dd19cc2cf8e1>:14: DeprecationWarning: find_element_by_xpath is deprecated. Please use find_element(by=By.XPATH, value=xpath) instead\n",
      "  year_list.append(driver.find_element_by_xpath('//table[@id=\"table-buildings\"]/tbody/tr['+str(b+1)+']/td[7]').text)\n",
      "<ipython-input-117-dd19cc2cf8e1>:15: DeprecationWarning: find_element_by_xpath is deprecated. Please use find_element(by=By.XPATH, value=xpath) instead\n",
      "  mat_list.append(driver.find_element_by_xpath('//table[@id=\"table-buildings\"]/tbody/tr['+str(b+1)+']/td[8]').text)\n",
      "<ipython-input-117-dd19cc2cf8e1>:16: DeprecationWarning: find_element_by_xpath is deprecated. Please use find_element(by=By.XPATH, value=xpath) instead\n",
      "  use_list.append(driver.find_element_by_xpath('//table[@id=\"table-buildings\"]/tbody/tr['+str(b+1)+']/td[9]').text)\n"
     ]
    }
   ],
   "source": [
    "bldg_list = []\n",
    "url_list = []\n",
    "h_list = []\n",
    "fl_list = []\n",
    "year_list = []\n",
    "mat_list = []\n",
    "use_list = []\n",
    "\n",
    "for b in range(len(bldgs)):\n",
    "    bldg_list.append(bldgs[b].text)\n",
    "    url_list.append(urls[b].get_attribute('href'))\n",
    "    h_list.append(driver.find_element_by_xpath('//table[@id=\"table-buildings\"]/tbody/tr['+str(b+1)+']/td[5]').text)\n",
    "    fl_list.append(driver.find_element_by_xpath('//table[@id=\"table-buildings\"]/tbody/tr['+str(b+1)+']/td[6]').text)\n",
    "    year_list.append(driver.find_element_by_xpath('//table[@id=\"table-buildings\"]/tbody/tr['+str(b+1)+']/td[7]').text)\n",
    "    mat_list.append(driver.find_element_by_xpath('//table[@id=\"table-buildings\"]/tbody/tr['+str(b+1)+']/td[8]').text)\n",
    "    use_list.append(driver.find_element_by_xpath('//table[@id=\"table-buildings\"]/tbody/tr['+str(b+1)+']/td[9]').text)"
   ]
  },
  {
   "cell_type": "code",
   "execution_count": 118,
   "metadata": {},
   "outputs": [
    {
     "data": {
      "text/plain": [
       "['541',\n",
       " '472',\n",
       " '435',\n",
       " '427',\n",
       " '425',\n",
       " '387',\n",
       " '381',\n",
       " '365',\n",
       " '328',\n",
       " '325',\n",
       " '320',\n",
       " '318',\n",
       " '318',\n",
       " '314',\n",
       " '306',\n",
       " '305',\n",
       " '303',\n",
       " '299',\n",
       " '297',\n",
       " '290',\n",
       " '289',\n",
       " '285',\n",
       " '282',\n",
       " '282',\n",
       " '278',\n",
       " '278',\n",
       " '267',\n",
       " '265',\n",
       " '262',\n",
       " '262',\n",
       " '259',\n",
       " '258',\n",
       " '258',\n",
       " '250',\n",
       " '248',\n",
       " '247',\n",
       " '246',\n",
       " '246',\n",
       " '245',\n",
       " '245',\n",
       " '244',\n",
       " '241',\n",
       " '240',\n",
       " '237',\n",
       " '237',\n",
       " '237',\n",
       " '237',\n",
       " '237',\n",
       " '232',\n",
       " '231']"
      ]
     },
     "execution_count": 118,
     "metadata": {},
     "output_type": "execute_result"
    }
   ],
   "source": [
    "h_list"
   ]
  },
  {
   "cell_type": "code",
   "execution_count": 105,
   "metadata": {},
   "outputs": [
    {
     "ename": "TypeError",
     "evalue": "'WebElement' object is not subscriptable",
     "output_type": "error",
     "traceback": [
      "\u001b[1;31m---------------------------------------------------------------------------\u001b[0m",
      "\u001b[1;31mTypeError\u001b[0m                                 Traceback (most recent call last)",
      "\u001b[1;32m<ipython-input-105-7d6467d48e02>\u001b[0m in \u001b[0;36m<module>\u001b[1;34m\u001b[0m\n\u001b[1;32m----> 1\u001b[1;33m \u001b[0mtype\u001b[0m\u001b[1;33m(\u001b[0m\u001b[0mheights\u001b[0m\u001b[1;33m[\u001b[0m\u001b[1;36m1\u001b[0m\u001b[1;33m]\u001b[0m\u001b[1;33m)\u001b[0m\u001b[1;33m\u001b[0m\u001b[1;33m\u001b[0m\u001b[0m\n\u001b[0m",
      "\u001b[1;31mTypeError\u001b[0m: 'WebElement' object is not subscriptable"
     ]
    }
   ],
   "source": [
    "type(heights[1])"
   ]
  }
 ],
 "metadata": {
  "kernelspec": {
   "display_name": "Python 3",
   "language": "python",
   "name": "python3"
  },
  "language_info": {
   "codemirror_mode": {
    "name": "ipython",
    "version": 3
   },
   "file_extension": ".py",
   "mimetype": "text/x-python",
   "name": "python",
   "nbconvert_exporter": "python",
   "pygments_lexer": "ipython3",
   "version": "3.8.3"
  }
 },
 "nbformat": 4,
 "nbformat_minor": 4
}
